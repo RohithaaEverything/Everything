{
 "cells": [
  {
   "cell_type": "code",
   "execution_count": 1,
   "id": "4df6c859",
   "metadata": {},
   "outputs": [
    {
     "name": "stdout",
     "output_type": "stream",
     "text": [
      "5\n",
      "2\n",
      "sum is : 7\n"
     ]
    }
   ],
   "source": [
    "#add two numbers without using arthematic operaters using recursion\n",
    "def add(a,b):\n",
    "    while b > 0 :\n",
    "        a += 1\n",
    "        b -= 1\n",
    "    return a\n",
    "a = int(input())\n",
    "b = int(input())\n",
    "print(\"sum is :\",add(a,b))"
   ]
  },
  {
   "cell_type": "code",
   "execution_count": 2,
   "id": "45d497de",
   "metadata": {},
   "outputs": [
    {
     "name": "stdout",
     "output_type": "stream",
     "text": [
      "1000"
     ]
    }
   ],
   "source": [
    "#decimal to binary\n",
    "def binary(n):\n",
    "    if n > 1:\n",
    "        binary(n // 2)\n",
    "    print( n % 2,end= \"\")\n",
    "binary(8)"
   ]
  },
  {
   "cell_type": "code",
   "execution_count": 3,
   "id": "f7470ebb",
   "metadata": {},
   "outputs": [
    {
     "name": "stdout",
     "output_type": "stream",
     "text": [
      "5\n",
      "120\n"
     ]
    }
   ],
   "source": [
    "#factorial using recursion\n",
    "def factorial(n):\n",
    "    if (n == 1 or n == 0):\n",
    "        return 1\n",
    "    return n * factorial(n - 1)\n",
    "n = int(input())\n",
    "print(factorial(n)) "
   ]
  },
  {
   "cell_type": "code",
   "execution_count": 4,
   "id": "be0d92b0",
   "metadata": {},
   "outputs": [
    {
     "name": "stdout",
     "output_type": "stream",
     "text": [
      "5\n",
      "10\n",
      "25\n"
     ]
    }
   ],
   "source": [
    "def factors(n,i):\n",
    "    if n ==i:\n",
    "        return 1\n",
    "    if n % i == 0:\n",
    "        if i % 5 == 0:\n",
    "            print(i)\n",
    "    factors(n,i+1)\n",
    "i = 1\n",
    "n = 50\n",
    "factors(n,i)"
   ]
  },
  {
   "cell_type": "code",
   "execution_count": 5,
   "id": "4e25c5ba",
   "metadata": {},
   "outputs": [
    {
     "name": "stdout",
     "output_type": "stream",
     "text": [
      "10\n"
     ]
    }
   ],
   "source": [
    "#product of two number using recursion\n",
    "def product( x , y ):\n",
    "    if x < y:\n",
    "        return product(y, x)\n",
    "    elif y != 0:\n",
    "        return (x + product(x, y - 1))\n",
    "    else:\n",
    "        return 0\n",
    "x = 5\n",
    "y = 2\n",
    "print( product(x, y))"
   ]
  },
  {
   "cell_type": "code",
   "execution_count": 6,
   "id": "7a2396ae",
   "metadata": {},
   "outputs": [
    {
     "name": "stdout",
     "output_type": "stream",
     "text": [
      "5\n",
      "2\n",
      "25\n"
     ]
    }
   ],
   "source": [
    "#power using recursion\n",
    "def power(a,b):\n",
    "    if (b == 0):\n",
    "        return 1\n",
    "    if (a == 0):\n",
    "        return 0\n",
    "    return a * power(a,b-1)\n",
    "a = int(input())\n",
    "b = int(input())\n",
    "print(power(a,b))"
   ]
  },
  {
   "cell_type": "code",
   "execution_count": 7,
   "id": "721609f0",
   "metadata": {},
   "outputs": [
    {
     "name": "stdout",
     "output_type": "stream",
     "text": [
      "Yes\n"
     ]
    }
   ],
   "source": [
    "def isPrime(n, i = 2):\n",
    "    if (n <= 2):\n",
    "        return True if(n == 2) else False\n",
    "    if (n % i == 0):\n",
    "        return False\n",
    "    if (i * i > n):\n",
    "        return True\n",
    "    return isPrime(n, i + 1)\n",
    "n = 2\n",
    "if (isPrime(n)):\n",
    "    print(\"Yes\")\n",
    "else:\n",
    "    print(\"No\")"
   ]
  },
  {
   "cell_type": "code",
   "execution_count": 9,
   "id": "522ddcb2",
   "metadata": {},
   "outputs": [
    {
     "data": {
      "text/plain": [
       "-25"
      ]
     },
     "execution_count": 9,
     "metadata": {},
     "output_type": "execute_result"
    }
   ],
   "source": [
    "#product of negativenumber using recursion\n",
    "def product(n,m):\n",
    "    if n>0 and m<0:\n",
    "        return product(m,n)\n",
    "    elif n <0 and m <0:\n",
    "        return product((-1*n),(-1*m))\n",
    "    if n > m:\n",
    "        return product(m,n)\n",
    "    elif m != 0:\n",
    "        return n + product(n,m-1)\n",
    "    else:\n",
    "        return 0\n",
    "n = -5\n",
    "m =  5\n",
    "product(n,m)"
   ]
  },
  {
   "cell_type": "code",
   "execution_count": 10,
   "id": "daf94dc2",
   "metadata": {},
   "outputs": [
    {
     "name": "stdout",
     "output_type": "stream",
     "text": [
      "Yes\n"
     ]
    }
   ],
   "source": [
    "# if an array is sorted or not using recursion\n",
    "def arraySortedOrNot(arr):\n",
    "    n = len(arr)\n",
    "    if n == 1 or n == 0:\n",
    "        return True\n",
    "    return arr[0] <= arr[1] and arraySortedOrNot(arr[1:])\n",
    "arr = [20, 23, 23, 45, 78, 88]\n",
    "if arraySortedOrNot(arr):\n",
    "    print(\"Yes\")\n",
    "else:\n",
    "    print(\"No\")"
   ]
  },
  {
   "cell_type": "code",
   "execution_count": 11,
   "id": "11f59a60",
   "metadata": {},
   "outputs": [
    {
     "name": "stdout",
     "output_type": "stream",
     "text": [
      "4\n",
      "10\n"
     ]
    }
   ],
   "source": [
    "# sum of two numbers\n",
    "def sumofnumbers(n):\n",
    "    if n <=1:\n",
    "        return n\n",
    "    return n + sumofnumbers(n-1)\n",
    "n = int(input())\n",
    "print(sumofnumbers(n))"
   ]
  },
  {
   "cell_type": "code",
   "execution_count": 12,
   "id": "45f77130",
   "metadata": {},
   "outputs": [
    {
     "name": "stdout",
     "output_type": "stream",
     "text": [
      "55\n"
     ]
    }
   ],
   "source": [
    "#fiboncii \n",
    "def fibonacci(n):\n",
    "    if n <= 1:\n",
    "        return n\n",
    "    return fibonacci(n-1) + fibonacci(n-2)\n",
    "n = 10\n",
    "print(fibonacci(n))"
   ]
  }
 ],
 "metadata": {
  "kernelspec": {
   "display_name": "Python 3 (ipykernel)",
   "language": "python",
   "name": "python3"
  },
  "language_info": {
   "codemirror_mode": {
    "name": "ipython",
    "version": 3
   },
   "file_extension": ".py",
   "mimetype": "text/x-python",
   "name": "python",
   "nbconvert_exporter": "python",
   "pygments_lexer": "ipython3",
   "version": "3.10.7"
  }
 },
 "nbformat": 4,
 "nbformat_minor": 5
}
