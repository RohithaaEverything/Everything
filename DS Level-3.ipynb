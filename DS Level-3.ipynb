{
 "cells": [
  {
   "cell_type": "code",
   "execution_count": 7,
   "id": "92c8ba92",
   "metadata": {},
   "outputs": [
    {
     "name": "stdout",
     "output_type": "stream",
     "text": [
      "5 0 7 6 4 \n",
      "5\n"
     ]
    }
   ],
   "source": [
    "#1.linear search\n",
    "def lin_search(a):\n",
    "    for i in range(n):\n",
    "        if a[i]==b:\n",
    "            print(\"Element is present in the index\",i)\n",
    "            break\n",
    "        else:\n",
    "            print(\"Element is not found\")\n",
    "a=[int(i) for i in input().split()]\n",
    "b=int(input())"
   ]
  },
  {
   "cell_type": "code",
   "execution_count": 9,
   "id": "72889bba",
   "metadata": {},
   "outputs": [
    {
     "name": "stdout",
     "output_type": "stream",
     "text": [
      "5\n",
      "Found At Index 3\n"
     ]
    }
   ],
   "source": [
    "#2.Binary Search\n",
    "def binarySearch(v, To_Find):\n",
    "    lo = 0\n",
    "    hi = len(v) - 1\n",
    "    while hi - lo > 1:\n",
    "        mid = (hi + lo) // 2\n",
    "        if v[mid] < To_Find:\n",
    "            lo = mid + 1\n",
    "        else:\n",
    "            hi = mid\n",
    " \n",
    "    if v[lo] == To_Find:\n",
    "        print(\"Found At Index\", lo)\n",
    "    elif v[hi] == To_Find:\n",
    "        print(\"Found At Index\", hi)\n",
    "    else:\n",
    "        print(\"Not Found\")\n",
    "if __name__ == '__main__':\n",
    "    v = [1, 3, 4, 5, 6]\n",
    "    To_find = int(input())\n",
    "    binarySearch(v,To_find)"
   ]
  },
  {
   "cell_type": "code",
   "execution_count": 10,
   "id": "2c3fac1c",
   "metadata": {},
   "outputs": [
    {
     "name": "stdout",
     "output_type": "stream",
     "text": [
      "1 2 3 4 5\n",
      "3\n",
      "Element found at index 2\n"
     ]
    }
   ],
   "source": [
    "#3.iterative search\n",
    "def bin_search(list,n):\n",
    "    low=0\n",
    "    high=len(list)-1\n",
    "    mid=0\n",
    "    for i in range(len(list)):\n",
    "        mid=(high+low)//2\n",
    "        if list[mid]<n:\n",
    "            low=mid+1\n",
    "        elif list[mid]>n:\n",
    "            high=mid-1\n",
    "        else:\n",
    "            return mid\n",
    "        return -1\n",
    "list=[int(i)for i in input().split()]\n",
    "n=int(input())\n",
    "if bin_search(list,n)==-1:\n",
    "    print(\"Element not found\")\n",
    "else:\n",
    "    print(\"Element found at index\",bin_search(list,n))"
   ]
  },
  {
   "cell_type": "code",
   "execution_count": 11,
   "id": "4f5d155d",
   "metadata": {},
   "outputs": [
    {
     "name": "stdout",
     "output_type": "stream",
     "text": [
      "1 5 7 0 23 5\n",
      "Sorted array is : \n",
      "[0, 1, 5, 5, 7, 23]\n"
     ]
    }
   ],
   "source": [
    "#4.insertion sort\n",
    "def insertionSort(arr):\n",
    "    for i in range(1, len(arr)):\n",
    " \n",
    "        key = arr[i]\n",
    "        j = i-1\n",
    "        while j >=0 and key < arr[j] :\n",
    "                arr[j+1] = arr[j]\n",
    "                j -= 1\n",
    "        arr[j+1] = key\n",
    "arr = [int(i)for i in input().split()]\n",
    "insertionSort(arr)  \n",
    "lst = []\n",
    "print(\"Sorted array is : \")\n",
    "for i in range(len(arr)):\n",
    "    lst.append(arr[i])      \n",
    "print(lst)"
   ]
  },
  {
   "cell_type": "code",
   "execution_count": 13,
   "id": "fec63d45",
   "metadata": {},
   "outputs": [
    {
     "name": "stdout",
     "output_type": "stream",
     "text": [
      "5 7 0 1 34 9\n",
      "[0, 1, 5, 7, 9, 34]\n"
     ]
    }
   ],
   "source": [
    "#5.bubble sort\n",
    "arr = [int(i)for i in input().split()]\n",
    "def bubble_Sort(arr):\n",
    "    count = 0\n",
    "    for i in range(len(arr)-1):\n",
    "        if arr[i] > arr[i + 1]:\n",
    "            arr[i],arr[i + 1] = arr[i + 1],arr[i]\n",
    "            count += 1\n",
    "    if count == 0:\n",
    "        print(arr)\n",
    "    else:\n",
    "        bubble_Sort(arr)\n",
    "bubble_Sort(arr)"
   ]
  },
  {
   "cell_type": "code",
   "execution_count": 14,
   "id": "9598d436",
   "metadata": {},
   "outputs": [
    {
     "name": "stdout",
     "output_type": "stream",
     "text": [
      "5 2 47 8 0 69\n",
      "Unsorted Array\n",
      "[5, 2, 47, 8, 0, 69]\n"
     ]
    },
    {
     "ename": "UnboundLocalError",
     "evalue": "local variable 'pi' referenced before assignment",
     "output_type": "error",
     "traceback": [
      "\u001b[1;31m---------------------------------------------------------------------------\u001b[0m",
      "\u001b[1;31mUnboundLocalError\u001b[0m                         Traceback (most recent call last)",
      "Cell \u001b[1;32mIn [14], line 19\u001b[0m\n\u001b[0;32m     17\u001b[0m \u001b[38;5;28mprint\u001b[39m(data)\n\u001b[0;32m     18\u001b[0m size \u001b[38;5;241m=\u001b[39m \u001b[38;5;28mlen\u001b[39m(data)\n\u001b[1;32m---> 19\u001b[0m quick_Sort(data, \u001b[38;5;241m0\u001b[39m, size \u001b[38;5;241m-\u001b[39m \u001b[38;5;241m1\u001b[39m)\n\u001b[0;32m     20\u001b[0m \u001b[38;5;28mprint\u001b[39m(\u001b[38;5;124m'\u001b[39m\u001b[38;5;124mSorted Array in Ascending Order:\u001b[39m\u001b[38;5;124m'\u001b[39m)\n\u001b[0;32m     21\u001b[0m \u001b[38;5;28mprint\u001b[39m(data)\n",
      "Cell \u001b[1;32mIn [14], line 13\u001b[0m, in \u001b[0;36mquick_Sort\u001b[1;34m(array, low, high)\u001b[0m\n\u001b[0;32m     11\u001b[0m \u001b[38;5;28;01mdef\u001b[39;00m \u001b[38;5;21mquick_Sort\u001b[39m(array, low, high):\n\u001b[0;32m     12\u001b[0m     \u001b[38;5;28;01mif\u001b[39;00m low \u001b[38;5;241m<\u001b[39m high:pi \u001b[38;5;241m=\u001b[39m partition(array, low, high)\n\u001b[1;32m---> 13\u001b[0m     \u001b[43mquick_Sort\u001b[49m\u001b[43m(\u001b[49m\u001b[43marray\u001b[49m\u001b[43m,\u001b[49m\u001b[43m \u001b[49m\u001b[43mlow\u001b[49m\u001b[43m,\u001b[49m\u001b[43m \u001b[49m\u001b[43mpi\u001b[49m\u001b[43m \u001b[49m\u001b[38;5;241;43m-\u001b[39;49m\u001b[43m \u001b[49m\u001b[38;5;241;43m1\u001b[39;49m\u001b[43m)\u001b[49m\n\u001b[0;32m     14\u001b[0m     quick_Sort(array, pi \u001b[38;5;241m+\u001b[39m \u001b[38;5;241m1\u001b[39m, high)\n",
      "Cell \u001b[1;32mIn [14], line 13\u001b[0m, in \u001b[0;36mquick_Sort\u001b[1;34m(array, low, high)\u001b[0m\n\u001b[0;32m     11\u001b[0m \u001b[38;5;28;01mdef\u001b[39;00m \u001b[38;5;21mquick_Sort\u001b[39m(array, low, high):\n\u001b[0;32m     12\u001b[0m     \u001b[38;5;28;01mif\u001b[39;00m low \u001b[38;5;241m<\u001b[39m high:pi \u001b[38;5;241m=\u001b[39m partition(array, low, high)\n\u001b[1;32m---> 13\u001b[0m     \u001b[43mquick_Sort\u001b[49m\u001b[43m(\u001b[49m\u001b[43marray\u001b[49m\u001b[43m,\u001b[49m\u001b[43m \u001b[49m\u001b[43mlow\u001b[49m\u001b[43m,\u001b[49m\u001b[43m \u001b[49m\u001b[43mpi\u001b[49m\u001b[43m \u001b[49m\u001b[38;5;241;43m-\u001b[39;49m\u001b[43m \u001b[49m\u001b[38;5;241;43m1\u001b[39;49m\u001b[43m)\u001b[49m\n\u001b[0;32m     14\u001b[0m     quick_Sort(array, pi \u001b[38;5;241m+\u001b[39m \u001b[38;5;241m1\u001b[39m, high)\n",
      "Cell \u001b[1;32mIn [14], line 13\u001b[0m, in \u001b[0;36mquick_Sort\u001b[1;34m(array, low, high)\u001b[0m\n\u001b[0;32m     11\u001b[0m \u001b[38;5;28;01mdef\u001b[39;00m \u001b[38;5;21mquick_Sort\u001b[39m(array, low, high):\n\u001b[0;32m     12\u001b[0m     \u001b[38;5;28;01mif\u001b[39;00m low \u001b[38;5;241m<\u001b[39m high:pi \u001b[38;5;241m=\u001b[39m partition(array, low, high)\n\u001b[1;32m---> 13\u001b[0m     quick_Sort(array, low, \u001b[43mpi\u001b[49m \u001b[38;5;241m-\u001b[39m \u001b[38;5;241m1\u001b[39m)\n\u001b[0;32m     14\u001b[0m     quick_Sort(array, pi \u001b[38;5;241m+\u001b[39m \u001b[38;5;241m1\u001b[39m, high)\n",
      "\u001b[1;31mUnboundLocalError\u001b[0m: local variable 'pi' referenced before assignment"
     ]
    }
   ],
   "source": [
    "#6.quick sort\n",
    "def partition(array, low, high):\n",
    "    pivot = array[high]\n",
    "    i = low - 1\n",
    "    for j in range(low, high):\n",
    "        if array[j]<= pivot:\n",
    "            i = i + 1\n",
    "            (array[i], array[j]) = (array[j], array[i])\n",
    "    (array[i + 1], array[high]) = (array[high], array[i + 1])\n",
    "    return i + 1\n",
    "def quick_Sort(array, low, high):\n",
    "    if low < high:pi = partition(array, low, high)\n",
    "    quick_Sort(array, low, pi - 1)\n",
    "    quick_Sort(array, pi + 1, high)\n",
    "data = [int(i)for i in input().split()]\n",
    "print(\"Unsorted Array\")\n",
    "print(data)\n",
    "size = len(data)\n",
    "quick_Sort(data, 0, size - 1)\n",
    "print('Sorted Array in Ascending Order:')\n",
    "print(data)"
   ]
  },
  {
   "cell_type": "code",
   "execution_count": 19,
   "id": "129553cd",
   "metadata": {},
   "outputs": [
    {
     "name": "stdout",
     "output_type": "stream",
     "text": [
      "8 7 1 0 3 6 4 9\n",
      "Sorted array is: \n",
      "0 1 3 4 6 7 8 9 \n"
     ]
    }
   ],
   "source": [
    "#7.merge sort\n",
    "def merge_Sort(array):\n",
    "    if len(array) > 1:\n",
    "        r = len(array)//2\n",
    "        L = array[:r]\n",
    "        M = array[r:]\n",
    "        merge_Sort(L)\n",
    "        merge_Sort(M)\n",
    "        i = j = k = 0\n",
    "        while i < len(L) and j < len(M):\n",
    "            if L[i] < M[j]:\n",
    "                array[k] = L[i]\n",
    "                i += 1\n",
    "            else:\n",
    "                array[k] = M[j]\n",
    "                j += 1\n",
    "            k += 1\n",
    "        while i < len(L):\n",
    "            array[k] = L[i]\n",
    "            i += 1\n",
    "            k += 1\n",
    "        while j < len(M):\n",
    "            array[k] = M[j]\n",
    "            j += 1\n",
    "            k += 1\n",
    "def printList(array):\n",
    "    for i in range(len(array)):\n",
    "        print(array[i], end=\" \")\n",
    "    print()\n",
    "if __name__ == '__main__':\n",
    "    array = [int(i)for i in input().split()]\n",
    "    merge_Sort(array)\n",
    "    print(\"Sorted array is: \")\n",
    "    printList(array)"
   ]
  },
  {
   "cell_type": "code",
   "execution_count": 18,
   "id": "d0855fed",
   "metadata": {},
   "outputs": [
    {
     "name": "stdout",
     "output_type": "stream",
     "text": [
      "5 7 6 4 0 8\n",
      "Sorted array is\n",
      "0 4 7 8 5 6 "
     ]
    }
   ],
   "source": [
    "#8.heap sort\n",
    "def heap(arr, N, i):\n",
    "    largest = i\n",
    "    l = 2 * i + 1\n",
    "    r = 2 * i + 2\n",
    "    if l < N and arr[largest] < arr[l]:\n",
    "        largest = l\n",
    "    if r < N and arr[largest] < arr[r]:\n",
    "        largest = r\n",
    "    if largest != i:\n",
    "        arr[i], arr[largest] = arr[largest], arr[i]\n",
    "        heap(arr, N, largest)\n",
    "def heap_Sort(arr):\n",
    "    N = len(arr)\n",
    "    for i in range(N//2 - 1, -1, -1):\n",
    "        heap(arr, N, i)\n",
    "        for i in range(N-1, 0, -1):\n",
    "            arr[i], arr[0] = arr[0], arr[i]\n",
    "            heap(arr, i, 0)\n",
    "if __name__ == '__main__':\n",
    "    arr = [int(i)for i in input().split()]\n",
    "    heap_Sort(arr)\n",
    "    N = len(arr)\n",
    "    print(\"Sorted array is\")\n",
    "    for i in range(N):\n",
    "        print(\"%d\" % arr[i], end=\" \")"
   ]
  },
  {
   "cell_type": "code",
   "execution_count": 5,
   "id": "43b8b24c",
   "metadata": {},
   "outputs": [
    {
     "name": "stdout",
     "output_type": "stream",
     "text": [
      "8 5 1 4 9 0 72\n",
      "[0, 1, 4, 5, 8, 9, 72]\n"
     ]
    }
   ],
   "source": [
    "#9.radix sort\n",
    "def countingSort(array, place):\n",
    "    size = len(array)\n",
    "    output = [0] * size\n",
    "    count = [0] * 10\n",
    "    for i in range(0, size):\n",
    "        index = array[i] // place\n",
    "        count[index % 10] += 1\n",
    "    for i in range(1, 10):\n",
    "        count[i] += count[i - 1]\n",
    "    i = size - 1\n",
    "    while i >= 0:\n",
    "        index = array[i] // place\n",
    "        output[count[index % 10] - 1] = array[i]\n",
    "        count[index % 10] -= 1\n",
    "        i -= 1\n",
    "    for i in range(0, size):\n",
    "        array[i] = output[i]\n",
    "def radix_Sort(array):\n",
    "    max_element = max(array)\n",
    "    place = 1\n",
    "    while max_element // place > 0:\n",
    "        countingSort(array, place)\n",
    "        place *= 10\n",
    "data = [int(i)for i in input().split()]\n",
    "radix_Sort(data)\n",
    "print(data)"
   ]
  },
  {
   "cell_type": "code",
   "execution_count": 4,
   "id": "8c47b777",
   "metadata": {},
   "outputs": [
    {
     "name": "stdout",
     "output_type": "stream",
     "text": [
      "Sorted array\n",
      "11 12 22 25 64 "
     ]
    }
   ],
   "source": [
    "#10.Selection sort\n",
    "A = [64, 25, 12, 22, 11]\n",
    "for i in range(len(A)):\n",
    "    min_idx = i\n",
    "    for j in range(i+1, len(A)):\n",
    "        if A[min_idx] > A[j]:\n",
    "            min_idx = j\n",
    "    A[i], A[min_idx] = A[min_idx], A[i]\n",
    "print (\"Sorted array\")\n",
    "for i in range(len(A)):\n",
    "    print(\"%d\" %A[i],end=\" \")"
   ]
  }
 ],
 "metadata": {
  "kernelspec": {
   "display_name": "Python 3 (ipykernel)",
   "language": "python",
   "name": "python3"
  },
  "language_info": {
   "codemirror_mode": {
    "name": "ipython",
    "version": 3
   },
   "file_extension": ".py",
   "mimetype": "text/x-python",
   "name": "python",
   "nbconvert_exporter": "python",
   "pygments_lexer": "ipython3",
   "version": "3.10.7"
  }
 },
 "nbformat": 4,
 "nbformat_minor": 5
}
