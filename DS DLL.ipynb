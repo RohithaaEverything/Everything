{
 "cells": [
  {
   "cell_type": "code",
   "execution_count": 3,
   "id": "8d7b1bca",
   "metadata": {},
   "outputs": [
    {
     "name": "stdout",
     "output_type": "stream",
     "text": [
      "Created DLL is:  \n",
      "Traversal in forward direction\n",
      "1 7 8 6 4 \n",
      "Traversal in reverse direction\n",
      "4 6 8 7 1 "
     ]
    }
   ],
   "source": [
    "#inserting in dll\n",
    "class Node:\n",
    "    def __init__(self, data):\n",
    "        self.data = data\n",
    "        self.next = None\n",
    "        self.prev = None \n",
    "class DoublyLinkedList:\n",
    "    def __init__(self):\n",
    "        self.head = None\n",
    "    def push(self, new_data):\n",
    "        new_node = Node(new_data)\n",
    "        new_node.next = self.head\n",
    "        if self.head is not None:\n",
    "            self.head.prev = new_node\n",
    "        self.head = new_node\n",
    "    def insertAfter(self, prev_node, new_data):\n",
    "        if prev_node is None:\n",
    "            print(\"the given previous node cannot be NULL\")\n",
    "            return\n",
    "        new_node = Node(new_data)\n",
    "        new_node.next = prev_node.next\n",
    "        prev_node.next = new_node\n",
    "        new_node.prev = prev_node\n",
    "        if new_node.next:\n",
    "            new_node.next.prev = new_node\n",
    "    def append(self, new_data):\n",
    "        new_node = Node(new_data)\n",
    "        if self.head is None:\n",
    "            self.head = new_node\n",
    "            return \n",
    "        last = self.head\n",
    "        while last.next:\n",
    "            last = last.next\n",
    "        last.next = new_node\n",
    "        new_node.prev = last \n",
    "        return\n",
    "    def printList(self, node): \n",
    "        print(\"\\nTraversal in forward direction\")\n",
    "        while node:\n",
    "            print(\"{}\".format(node.data), end =\" \")\n",
    "            last = node\n",
    "            node = node.next \n",
    "        print(\"\\nTraversal in reverse direction\")\n",
    "        while last:\n",
    "            print(\"{}\".format(last.data), end =\" \")\n",
    "            last = last.prev \n",
    "if __name__ == \"__main__\":\n",
    "    llist = DoublyLinkedList()\n",
    "    llist.append(6)\n",
    "    llist.push(7)\n",
    "    llist.push(1)\n",
    "    llist.append(4)\n",
    "    llist.insertAfter(llist.head.next, 8)\n",
    "    print(\"Created DLL is:\", end =\" \")\n",
    "    llist.printList(llist.head)"
   ]
  },
  {
   "cell_type": "code",
   "execution_count": 15,
   "id": "9135f94a",
   "metadata": {},
   "outputs": [
    {
     "name": "stdout",
     "output_type": "stream",
     "text": [
      "Original Double Linked List: 10 8 6 4 2 \n",
      "Double Linked List after deletion: 8 4 2 "
     ]
    }
   ],
   "source": [
    "#deleting in dll\n",
    "class Node:     \n",
    "    def __init__(self, data):\n",
    "        self.data = data\n",
    "        self.next = None\n",
    "        self.prev = None\n",
    "class DoublyLinkedList:\n",
    "    def __init__(self):\n",
    "        self.head = None \n",
    "    def deleteNode(self, dele):         \n",
    "        if self.head is None or dele is None:\n",
    "            return\n",
    "        if self.head == dele:\n",
    "            self.head = dele.next\n",
    "        if dele.next is not None:\n",
    "            dele.next.prev = dele.prev\n",
    "        if dele.prev is not None:\n",
    "            dele.prev.next = dele.next\n",
    "    def push(self, new_data):\n",
    "        new_node = Node(new_data)\n",
    "        new_node.next = self.head  \n",
    "        if self.head is not None:\n",
    "            self.head.prev = new_node  \n",
    "        self.head = new_node \n",
    "    def printList(self, node):\n",
    "        while(node is not None):\n",
    "            print(node.data,end=' ')\n",
    "            node = node.next \n",
    "dll = DoublyLinkedList()\n",
    "dll.push(2)\n",
    "dll.push(4)\n",
    "dll.push(6)\n",
    "dll.push(8)\n",
    "dll.push(10) \n",
    "print (\"Original Double Linked List:\",end=' ')\n",
    "dll.printList(dll.head)\n",
    "dll.deleteNode(dll.head)\n",
    "dll.deleteNode(dll.head.next)\n",
    "print(\"\\nDouble Linked List after deletion:\",end=' ')\n",
    "dll.printList(dll.head)"
   ]
  }
 ],
 "metadata": {
  "kernelspec": {
   "display_name": "Python 3 (ipykernel)",
   "language": "python",
   "name": "python3"
  },
  "language_info": {
   "codemirror_mode": {
    "name": "ipython",
    "version": 3
   },
   "file_extension": ".py",
   "mimetype": "text/x-python",
   "name": "python",
   "nbconvert_exporter": "python",
   "pygments_lexer": "ipython3",
   "version": "3.10.7"
  }
 },
 "nbformat": 4,
 "nbformat_minor": 5
}
